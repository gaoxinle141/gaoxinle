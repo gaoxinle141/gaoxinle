{
 "cells": [
  {
   "cell_type": "markdown",
   "metadata": {},
   "source": [
    "# 选择\n",
    "## 布尔类型、数值和表达式\n",
    "![](../Photo/33.png)\n",
    "- 注意：比较运算符的相等是两个等到，一个等到代表赋值\n",
    "- 在Python中可以用整型0来代表False，其他数字来代表True\n",
    "- 后面还会讲到 is 在判断语句中的用发"
   ]
  },
  {
   "cell_type": "code",
   "execution_count": 5,
   "metadata": {},
   "outputs": [],
   "source": [
    "b = 100"
   ]
  },
  {
   "cell_type": "code",
   "execution_count": 9,
   "metadata": {},
   "outputs": [
    {
     "name": "stdout",
     "output_type": "stream",
     "text": [
      "输入你要取得钱50\n",
      "你是真的家里有矿\n",
      "余额: 0\n"
     ]
    }
   ],
   "source": [
    "a = eval(input('输入你要取得钱'))\n",
    "if b >= a:\n",
    "    c = b - a\n",
    "    b = c\n",
    "    print('你是真的家里有矿')\n",
    "else:\n",
    "    print('穷逼，100快都没有')\n",
    "\n",
    "print('余额:',c)"
   ]
  },
  {
   "cell_type": "markdown",
   "metadata": {},
   "source": [
    "## 字符串的比较使用ASCII值"
   ]
  },
  {
   "cell_type": "markdown",
   "metadata": {},
   "source": [
    "## Markdown \n",
    "- https://github.com/younghz/Markdown"
   ]
  },
  {
   "cell_type": "markdown",
   "metadata": {},
   "source": [
    "## EP:\n",
    "- <img src=\"../Photo/34.png\"></img>\n",
    "- 输入一个数字，判断其实奇数还是偶数"
   ]
  },
  {
   "cell_type": "markdown",
   "metadata": {},
   "source": [
    "## 产生随机数字\n",
    "- 函数random.randint(a,b) 可以用来产生一个a和b之间且包括a和b的随机整数"
   ]
  },
  {
   "cell_type": "markdown",
   "metadata": {},
   "source": [
    "##  其他random方法\n",
    "- random.random 返回0.0到1.0之间前闭后开区间的随机浮点\n",
    "- random.randrange(a,b) 前闭后开"
   ]
  },
  {
   "cell_type": "markdown",
   "metadata": {},
   "source": [
    "## EP：\n",
    "- 产生两个随机整数number1和number2，然后显示给用户，使用户输入数字的和，并判定其是否正确\n",
    "- 进阶:写一个随机序号点名程序"
   ]
  },
  {
   "cell_type": "code",
   "execution_count": null,
   "metadata": {},
   "outputs": [],
   "source": [
    "import random\n",
    "a = random.randrange(0,9)\n",
    "b = random.randrange(1,9)"
   ]
  },
  {
   "cell_type": "code",
   "execution_count": 24,
   "metadata": {},
   "outputs": [
    {
     "name": "stdout",
     "output_type": "stream",
     "text": [
      "13\n",
      "输入两个数的和12\n",
      "falus\n"
     ]
    }
   ],
   "source": [
    "import random\n",
    "\n",
    "a = random.randrange(0,9)\n",
    "b = random.randrange(1,9)\n",
    "c = a + b\n",
    "print(c)\n",
    "d = eval(input('输入两个数的和'))\n",
    "if d == c:\n",
    "    print('true')\n",
    "else:\n",
    "    print('falus')"
   ]
  },
  {
   "cell_type": "markdown",
   "metadata": {},
   "source": [
    "## if语句\n",
    "- 如果条件正确就执行一个单向if语句，亦即当条件为真的时候才执行if内部的语句\n",
    "- Python有很多选择语句:\n",
    "> - 单向if \n",
    "  - 双向if-else\n",
    "  - 嵌套if\n",
    "  - 多向if-elif-else\n",
    "  \n",
    "- 注意：当语句含有子语句的时候，那么一定至少要有一个缩进，也就是说如果有儿子存在，那么一定要缩进\n",
    "- 切记不可tab键和space混用，单用tab 或者 space\n",
    "- 当你输出的结果是无论if是否为真时都需要显示时，语句应该与if对齐"
   ]
  },
  {
   "cell_type": "markdown",
   "metadata": {},
   "source": [
    "score = eval(input('输入你的成绩，以此确定你的智商'))\n",
    "if score > 90:\n",
    "    print('你智商真是个250')\n",
    "elif score >= 60:\n",
    "    print('你真是个弟弟')50\n",
    "    \n",
    "else:\n",
    "    print('你真是个five')"
   ]
  },
  {
   "cell_type": "markdown",
   "metadata": {},
   "source": [
    "## EP：\n",
    "- 用户输入一个数字，判断其实奇数还是偶数\n",
    "- 进阶：可以查看下4.5实例研究猜生日"
   ]
  },
  {
   "cell_type": "code",
   "execution_count": null,
   "metadata": {},
   "outputs": [],
   "source": [
    "shuzi = eval(input('输入一个数字'))\n",
    "if shuzi % 2 == 0:\n",
    "    print('这。。。。。。。居然是一个偶数')\n",
    "else:\n",
    "    print('这果然是一个奇数')"
   ]
  },
  {
   "cell_type": "markdown",
   "metadata": {},
   "source": [
    "## 双向if-else 语句\n",
    "- 如果条件为真，那么走if内部语句，否则走else内部语句"
   ]
  },
  {
   "cell_type": "markdown",
   "metadata": {},
   "source": [
    "## EP：\n",
    "- 产生两个随机整数number1和number2，然后显示给用户，使用户输入数字，并判定其是否正确,如果正确打印“you‘re correct”，否则打印正确错误"
   ]
  },
  {
   "cell_type": "markdown",
   "metadata": {},
   "source": [
    "## 嵌套if 和多向if-elif-else\n",
    "![](../Photo/35.png)"
   ]
  },
  {
   "cell_type": "markdown",
   "metadata": {},
   "source": [
    "## EP：\n",
    "- 提示用户输入一个年份，然后显示表示这一年的动物\n",
    "![](../Photo/36.png)\n",
    "- 计算身体质量指数的程序\n",
    "- BMI = 以千克为单位的体重除以以米为单位的身高\n",
    "![](../Photo/37.png)"
   ]
  },
  {
   "cell_type": "code",
   "execution_count": 8,
   "metadata": {},
   "outputs": [
    {
     "name": "stdout",
     "output_type": "stream",
     "text": [
      "输入你的体重,身高85,180\n",
      "滚啊，死肥宅\n"
     ]
    }
   ],
   "source": [
    "a,b = eval(input('输入你的体重,身高'))\n",
    "c = a / b\n",
    "if c >= 30:\n",
    "    print('你的身材真标准')\n",
    "elif c >= 25:\n",
    "    print('你真是一个健身模特')\n",
    "elif c >= 18:\n",
    "    print('你真是一个大胖纸')\n",
    "else:\n",
    "    print('滚啊，死肥宅')"
   ]
  },
  {
   "cell_type": "code",
   "execution_count": null,
   "metadata": {},
   "outputs": [],
   "source": []
  },
  {
   "cell_type": "code",
   "execution_count": null,
   "metadata": {},
   "outputs": [],
   "source": [
    "a = eval(input('请输入你的出生那一年：'))\n",
    "if a%12 == 0 :\n",
    "    print('猴')\n",
    "elif a%12 == 1:\n",
    "    print('鸡')\n",
    "elif a%12 == 2:\n",
    "    print('狗')\n",
    "elif a%12 == 3:\n",
    "    print('宋丽杰')\n",
    "elif a%12 == 4:\n",
    "    print('鼠')\n",
    "elif a%12 == 5:\n",
    "    print('牛')\n",
    "elif a%12 == 6:\n",
    "    print('虎')\n",
    "elif a%12 == 7:\n",
    "    print('兔')\n",
    "elif a%12 == 8:\n",
    "    print('龙')\n",
    "elif a%12 == 9:\n",
    "    print('蛇')\n",
    "elif a%12 == 10:\n",
    "    print('马')\n",
    "else :\n",
    "    print('羊')\n"
   ]
  },
  {
   "cell_type": "markdown",
   "metadata": {},
   "source": [
    "## 逻辑运算符\n",
    "![](../Photo/38.png)"
   ]
  },
  {
   "cell_type": "markdown",
   "metadata": {},
   "source": [
    "![](../Photo/39.png)\n",
    "![](../Photo/40.png)"
   ]
  },
  {
   "cell_type": "markdown",
   "metadata": {},
   "source": [
    "## EP：\n",
    "- 判定闰年：一个年份如果能被4整除但不能被100整除，或者能被400整除，那么这个年份就是闰年\n",
    "- 提示用户输入一个年份，并返回是否是闰年\n",
    "- 提示用户输入一个数字，判断其是否为水仙花数"
   ]
  },
  {
   "cell_type": "code",
   "execution_count": 5,
   "metadata": {},
   "outputs": [
    {
     "name": "stdout",
     "output_type": "stream",
     "text": [
      "yes 153\n",
      "yes 370\n",
      "yes 371\n",
      "yes 407\n"
     ]
    }
   ],
   "source": [
    "for num in range(100,1000):\n",
    "    str_num = str(num)\n",
    "    baiwei = int(str_num[0])\n",
    "    shiwei = int(str_num[1])\n",
    "    gewei = int(str_num[2])\n",
    "    if num == (baiwei*baiwei*baiwei + shiwei*shiwei*shiwei + gewei*gewei*gewei):\n",
    "        print('yes',num)"
   ]
  },
  {
   "cell_type": "code",
   "execution_count": 16,
   "metadata": {},
   "outputs": [
    {
     "name": "stdout",
     "output_type": "stream",
     "text": [
      "输入一个年费2008\n",
      "这是个闰年\n"
     ]
    }
   ],
   "source": [
    "year = eval(input('输入一个年费'))\n",
    "if (year % 4 == 0 and year % 100 != 0) or year % 400 == 0:\n",
    "    print('这是个闰年')"
   ]
  },
  {
   "cell_type": "markdown",
   "metadata": {},
   "source": [
    "## 实例研究：彩票\n",
    "![](../Photo/41.png)"
   ]
  },
  {
   "cell_type": "code",
   "execution_count": 12,
   "metadata": {},
   "outputs": [
    {
     "name": "stdout",
     "output_type": "stream",
     "text": [
      "86\n",
      "输入一个两位数68\n",
      "5000\n"
     ]
    }
   ],
   "source": [
    "import random\n",
    "c = random.randrange(10,100)\n",
    "print(c)\n",
    "number = eval(input('输入一个两位数'))\n",
    "a = number % 10\n",
    "b = number // 10\n",
    "if b*10+a == c:\n",
    "    print('10000')\n",
    "elif a*10+b == c:\n",
    "    print('5000')\n",
    "elif (c % 10 == a or c % 10 == b) or (c // 10 == a or c // 10 == b):\n",
    "    print('1000')"
   ]
  },
  {
   "cell_type": "markdown",
   "metadata": {},
   "source": [
    "# Homework\n",
    "- 1\n",
    "![](../Photo/42.png)"
   ]
  },
  {
   "cell_type": "code",
   "execution_count": 3,
   "metadata": {},
   "outputs": [
    {
     "name": "stdout",
     "output_type": "stream",
     "text": [
      "Enter a,b,c:1.0,3,1\n",
      "The root are -0.3819660112501051 and -2.618033988749895\n"
     ]
    }
   ],
   "source": [
    "import math\n",
    "a,b,c = eval(input('Enter a,b,c:'))\n",
    "x = b*b-(4*a*c)\n",
    "if x > 0:\n",
    "    r1 = (-b+math.sqrt(x))/(2*a)\n",
    "    r2 = (-b-math.sqrt(x))/(2*a)\n",
    "    print('The root are',r1,'and',r2)\n",
    "elif x == 0:\n",
    "    r1 = (-b+math.sqrt(x))/(2*a)\n",
    "    print('The root is',r1)\n",
    "elif x < 0:\n",
    "    print('The equation has no real roots')"
   ]
  },
  {
   "cell_type": "markdown",
   "metadata": {},
   "source": [
    "- 2\n",
    "![](../Photo/43.png)"
   ]
  },
  {
   "cell_type": "code",
   "execution_count": 1,
   "metadata": {},
   "outputs": [
    {
     "name": "stdout",
     "output_type": "stream",
     "text": [
      "82 80\n",
      "输入两个数的和162\n",
      "ture\n"
     ]
    }
   ],
   "source": [
    "import random\n",
    "a = random.randint(0,100)\n",
    "b = random.randint(0,100)\n",
    "c = a + b\n",
    "print(a,b)\n",
    "d = eval(input('输入两个数的和'))\n",
    "if d == c:\n",
    "    print('ture')\n",
    "else:\n",
    "    print('XXX')"
   ]
  },
  {
   "cell_type": "markdown",
   "metadata": {},
   "source": [
    "- 3\n",
    "![](../Photo/44.png)"
   ]
  },
  {
   "cell_type": "code",
   "execution_count": 2,
   "metadata": {},
   "outputs": [
    {
     "name": "stdout",
     "output_type": "stream",
     "text": [
      "输入今天是星期几0\n",
      "输入之后的天数31\n",
      "今天是星期三\n"
     ]
    }
   ],
   "source": [
    "day = eval(input('输入今天是星期几'))\n",
    "days = eval(input('输入之后的天数'))\n",
    "x = day + days\n",
    "if x%7 == 0:\n",
    "    print('今天是星期日')\n",
    "elif x%7 == 1:\n",
    "    print('今天是星期一')\n",
    "elif x%7 == 2:\n",
    "    print('今天是星期二')\n",
    "elif x%7 == 3:\n",
    "    print('今天是星期三')\n",
    "elif x%7 == 4:\n",
    "    print('今天是星期四')\n",
    "elif x%7 == 5:\n",
    "    print('今天是星期五')\n",
    "elif x%7 == 6:\n",
    "    print('今天是星期六')"
   ]
  },
  {
   "cell_type": "markdown",
   "metadata": {},
   "source": [
    "- 4\n",
    "![](../Photo/45.png)"
   ]
  },
  {
   "cell_type": "code",
   "execution_count": 5,
   "metadata": {},
   "outputs": [
    {
     "name": "stdout",
     "output_type": "stream",
     "text": [
      "输入三个整数100,50,20\n",
      "100 > 50 > 20\n"
     ]
    }
   ],
   "source": [
    "a,b,c = eval(input('输入三个整数'))\n",
    "if a > b and b > c:\n",
    "    print(a,'>',b,'>',c)\n",
    "elif a > c and c > b:\n",
    "    print(a,'>',c,'>',b)\n",
    "elif c > a and a > b:\n",
    "    print(c,'>',a,'>',b)\n",
    "elif c > b and b > a:\n",
    "    print(c,'>',b,'>',a)\n",
    "elif b > a and a > c:\n",
    "    print(b,'>',a,'>',c)\n",
    "elif b > c and c > a:\n",
    "    print(b,'>',c,'>',a)"
   ]
  },
  {
   "cell_type": "markdown",
   "metadata": {},
   "source": [
    "- 5\n",
    "![](../Photo/46.png)"
   ]
  },
  {
   "cell_type": "code",
   "execution_count": 7,
   "metadata": {},
   "outputs": [
    {
     "name": "stdout",
     "output_type": "stream",
     "text": [
      "输入1的重量以及价格50,24.59\n",
      "输入2的重量以及价格25,11.99\n",
      "2最便宜\n"
     ]
    }
   ],
   "source": [
    "a1,b1 = eval(input('输入1的重量以及价格'))\n",
    "a2,b2 = eval(input('输入2的重量以及价格'))\n",
    "c1 = (b1)/(a1)\n",
    "c2 = (b2)/(a2)\n",
    "if (c1)<(c2):\n",
    "    print('1最便宜')\n",
    "elif (c1)==(c2):\n",
    "    print('价钱一样')\n",
    "elif (c1)>(c2):\n",
    "    print('2最便宜')"
   ]
  },
  {
   "cell_type": "markdown",
   "metadata": {},
   "source": [
    "- 6\n",
    "![](../Photo/47.png)"
   ]
  },
  {
   "cell_type": "code",
   "execution_count": 11,
   "metadata": {},
   "outputs": [
    {
     "name": "stdout",
     "output_type": "stream",
     "text": [
      "输入月和年5,2018\n",
      "2018 年 5 月有31天\n"
     ]
    }
   ],
   "source": [
    "m,y = eval(input('输入月和年'))\n",
    "if (m == 2 and y % 4 == 0 and y % 100 != 0) or y % 400 == 0:\n",
    "    print(y,'年',m,'月有29天')\n",
    "elif (m == 2 and y % 4 != 0):\n",
    "    print(y,'年',m,'月有28天')\n",
    "elif (m == 1,3,5,7,8,10,12):\n",
    "    print(y,'年',m,'月有31天')\n",
    "elif (m == 4,6,9,11):\n",
    "    print(y,'年',m,'月有30天')"
   ]
  },
  {
   "cell_type": "markdown",
   "metadata": {},
   "source": [
    "- 7\n",
    "![](../Photo/48.png)"
   ]
  },
  {
   "cell_type": "code",
   "execution_count": 14,
   "metadata": {},
   "outputs": [
    {
     "name": "stdout",
     "output_type": "stream",
     "text": [
      "输入1或者2,1为正面，2为反面1\n",
      "正确\n"
     ]
    }
   ],
   "source": [
    "import random\n",
    "number = eval(input('输入1或者2,1为正面，2为反面'))\n",
    "a = random.randint(1,2)\n",
    "if number == a:\n",
    "    print('正确')\n",
    "else:\n",
    "    print('错误')"
   ]
  },
  {
   "cell_type": "markdown",
   "metadata": {},
   "source": [
    "- 8\n",
    "![](../Photo/49.png)"
   ]
  },
  {
   "cell_type": "code",
   "execution_count": 1,
   "metadata": {},
   "outputs": [
    {
     "name": "stdout",
     "output_type": "stream",
     "text": [
      "输入一个数，0=剪刀，1=石头，2=布2\n",
      "对方是 1 你赢了\n"
     ]
    }
   ],
   "source": [
    "import random\n",
    "number = eval(input('输入一个数，0=剪刀，1=石头，2=布'))\n",
    "x = random.randint(0,2)\n",
    "if (number == 0 and x == 2) or (number ==1 and x == 0) or (number == 2 and x == 1):\n",
    "    print('对方是',x,'你赢了')\n",
    "elif (number == x):\n",
    "    print('对方是',x,'平局')\n",
    "elif (number == 0 and x == 1) or (number == 1 and x == 2) or (number ==2 and x == 0):\n",
    "    print('对方是',x,'你输了')"
   ]
  },
  {
   "cell_type": "markdown",
   "metadata": {},
   "source": [
    "- 9\n",
    "![](../Photo/50.png)"
   ]
  },
  {
   "cell_type": "code",
   "execution_count": 67,
   "metadata": {},
   "outputs": [
    {
     "name": "stdout",
     "output_type": "stream",
     "text": [
      "输入年2013\n",
      "输入月1\n",
      "输入日25\n",
      "这一天是星期二\n"
     ]
    }
   ],
   "source": [
    "y = eval(input('输入年'))\n",
    "m = eval(input('输入月'))\n",
    "d = eval(input('输入日'))\n",
    "if m == 1 or m == 2:\n",
    "    y = y - 1 \n",
    "a = 26*(m+1)//10//1\n",
    "k = y % 100\n",
    "b = k / 4 // 1\n",
    "j = y / 100 // 1\n",
    "c = j / 4 // 1\n",
    "h = ((d + a + k + b + c) + 5*j)%7\n",
    "if b == 0:\n",
    "    print('这一天是星期六')\n",
    "elif b == 1:\n",
    "    print('这一天是星期日')\n",
    "elif b == 2:\n",
    "    print('这一天是星期一')\n",
    "elif b == 3:\n",
    "    print('这一天是星期二')\n",
    "elif b == 4:\n",
    "    print('这一天是星期三')\n",
    "elif b == 5:\n",
    "    print('这一天是星期四')\n",
    "elif b == 6:\n",
    "    print('这一天是星期五')"
   ]
  },
  {
   "cell_type": "markdown",
   "metadata": {},
   "source": [
    "- 10\n",
    "![](../Photo/51.png)"
   ]
  },
  {
   "cell_type": "code",
   "execution_count": 77,
   "metadata": {},
   "outputs": [
    {
     "name": "stdout",
     "output_type": "stream",
     "text": [
      "这张牌是： ['Red Peach'] ['Ace']\n"
     ]
    }
   ],
   "source": [
    "import random\n",
    "a = ['Ace',2,3,4,5,6,7,8,9,10,'Jack','Queen','King']\n",
    "b = random.sample(a,1)\n",
    "c = ['black Peach','Club','Red Peach','FangKuai']\n",
    "d = random.sample(c,1)\n",
    "print('这张牌是：',d,b)"
   ]
  },
  {
   "cell_type": "markdown",
   "metadata": {},
   "source": [
    "- 11\n",
    "![](../Photo/52.png)"
   ]
  },
  {
   "cell_type": "code",
   "execution_count": 59,
   "metadata": {},
   "outputs": [
    {
     "name": "stdout",
     "output_type": "stream",
     "text": [
      "输入一个三位数324\n",
      "324 不是一个回文数\n"
     ]
    }
   ],
   "source": [
    "num = eval(input('输入一个三位数'))\n",
    "str_num = str(num)\n",
    "baiwei = int(str_num[0])\n",
    "shiwei = int(str_num[1])\n",
    "gewei = int(str_num[2])\n",
    "if baiwei == gewei:\n",
    "    print(num,'是一个回文数')\n",
    "else:\n",
    "    print(num,'不是一个回文数')"
   ]
  },
  {
   "cell_type": "markdown",
   "metadata": {},
   "source": [
    "- 12\n",
    "![](../Photo/53.png)"
   ]
  },
  {
   "cell_type": "code",
   "execution_count": 62,
   "metadata": {},
   "outputs": [
    {
     "name": "stdout",
     "output_type": "stream",
     "text": [
      "输入三角形的三边1,5,6\n",
      "这不是一个三角形\n"
     ]
    }
   ],
   "source": [
    "a,b,c = eval(input('输入三角形的三边'))\n",
    "d = a+b+c\n",
    "if (a+b)>c and (a+c)>b and (b+c)>a:\n",
    "    print('三角形的周长是',d)\n",
    "else:\n",
    "    print('这不是一个三角形')"
   ]
  }
 ],
 "metadata": {
  "kernelspec": {
   "display_name": "Python 3",
   "language": "python",
   "name": "python3"
  },
  "language_info": {
   "codemirror_mode": {
    "name": "ipython",
    "version": 3
   },
   "file_extension": ".py",
   "mimetype": "text/x-python",
   "name": "python",
   "nbconvert_exporter": "python",
   "pygments_lexer": "ipython3",
   "version": "3.6.4"
  }
 },
 "nbformat": 4,
 "nbformat_minor": 2
}
